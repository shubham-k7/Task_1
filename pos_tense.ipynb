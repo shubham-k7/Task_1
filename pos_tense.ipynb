{
 "cells": [
  {
   "cell_type": "code",
   "execution_count": 1,
   "metadata": {},
   "outputs": [],
   "source": [
    "import nltk\n",
    "import numpy as np\n",
    "from nltk.tokenize import TreebankWordTokenizer\n",
    "from nltk.corpus import treebank\n",
    "from nltk import sent_tokenize, pos_tag_sents"
   ]
  },
  {
   "cell_type": "code",
   "execution_count": null,
   "metadata": {},
   "outputs": [
    {
     "name": "stdout",
     "output_type": "stream",
     "text": [
      "[[('We', 'UNK'), ('did', 'Past'), ('this', 'UNK'), ('yesterday', 'UNK'), ('.', 'UNK')], [('Can', 'present'), ('we', 'UNK'), ('do', 'UNK'), ('that', 'UNK'), ('tomorrow', 'UNK'), ('?', 'UNK')]]\n",
      "[['UNK', 'Past', 'UNK', 'UNK', 'UNK'], ['present', 'UNK', 'UNK', 'UNK', 'UNK', 'UNK']]\n"
     ]
    }
   ],
   "source": [
    "all_sent = treebank.tagged_sents()\n",
    "# print(treebank.parsed_sents()[0])\n",
    "tn = TreebankWordTokenizer()\n",
    "tree = treebank.parsed_sents('wsj_0001.mrg')[0]\n",
    "para = \"We did this yesterday. Can we do that tomorrow?\"\n",
    "sentences = sent_tokenize(para)\n",
    "sent_tokens = []\n",
    "for sentence in sentences:\n",
    "    tokenized_sent = tn.tokenize(sentence)\n",
    "    sent_tokens.append(tokenized_sent)\n",
    "sent_tagged = pos_tag_sents(sent_tokens)\n",
    "\n",
    "\n",
    "# trivial_solve\n",
    "past_tag = [\"VBD\", \"VBN\"]\n",
    "present_tag = [\"VBP\", \"VBZ\"]\n",
    "future_modal = [\"will\",\"ll\",\"shall\"]\n",
    "past_modal = [\"would\",\"could\"]\n",
    "\n",
    "para_word_tense = []\n",
    "para_tense = []\n",
    "for sentence in sent_tagged:\n",
    "    sent_word_tense = []\n",
    "    sent_tense = []\n",
    "    for (word, postag) in sentence:\n",
    "        tense = \"UNK\"\n",
    "        if(postag in past_tag):\n",
    "            tense = \"Past\"\n",
    "        elif(postag in present_tag):\n",
    "            tense = \"Present\"\n",
    "        elif(postag == \"MD\"):\n",
    "            if(word in future_modal):\n",
    "                tense = \"Future\"\n",
    "            elif(word in past_modal):\n",
    "                tense = \"Past\"\n",
    "            else:\n",
    "                tense = \"present\"\n",
    "        sent_word_tense.append((word, tense))\n",
    "        sent_tense.append(tense)\n",
    "    para_word_tense.append(sent_word_tense)\n",
    "    para_tense.append(sent_tense)\n",
    "\n",
    "print(para_word_tense)\n",
    "print(para_tense)\n",
    "print(tree.draw())"
   ]
  },
  {
   "cell_type": "code",
   "execution_count": 7,
   "metadata": {},
   "outputs": [
    {
     "name": "stdout",
     "output_type": "stream",
     "text": [
      "NP-SBJ\n",
      "VP\n",
      ".\n",
      "NP\n",
      ",\n",
      "ADJP\n",
      ",\n",
      "MD\n",
      "VP\n"
     ]
    },
    {
     "ename": "AttributeError",
     "evalue": "'str' object has no attribute 'label'",
     "output_type": "error",
     "traceback": [
      "\u001b[0;31m---------------------------------------------------------------------------\u001b[0m",
      "\u001b[0;31mAttributeError\u001b[0m                            Traceback (most recent call last)",
      "\u001b[0;32m<ipython-input-7-fcca425b9bd3>\u001b[0m in \u001b[0;36m<module>\u001b[0;34m()\u001b[0m\n\u001b[1;32m      7\u001b[0m         \u001b[0;32mpass\u001b[0m\u001b[0;34m\u001b[0m\u001b[0m\n\u001b[1;32m      8\u001b[0m     \u001b[0;32mfor\u001b[0m \u001b[0mchild\u001b[0m \u001b[0;32min\u001b[0m \u001b[0mnode\u001b[0m\u001b[0;34m:\u001b[0m\u001b[0;34m\u001b[0m\u001b[0m\n\u001b[0;32m----> 9\u001b[0;31m         \u001b[0mprint\u001b[0m\u001b[0;34m(\u001b[0m\u001b[0mchild\u001b[0m\u001b[0;34m.\u001b[0m\u001b[0mlabel\u001b[0m\u001b[0;34m(\u001b[0m\u001b[0;34m)\u001b[0m\u001b[0;34m)\u001b[0m\u001b[0;34m\u001b[0m\u001b[0m\n\u001b[0m",
      "\u001b[0;31mAttributeError\u001b[0m: 'str' object has no attribute 'label'"
     ]
    }
   ],
   "source": [
    "#POS-based tense detection\n",
    "from nltk.util import breadth_first\n",
    "i = 0\n",
    "\n",
    "def getTenseFromVerb(node):\n",
    "    if(node)\n",
    "for node in breadth_first(tree):\n",
    "    if(len(node)<2):\n",
    "        pass\n",
    "    for child in node:\n",
    "        if(child.label() == \"VP\"):\n",
    "            print(child.label())"
   ]
  }
 ],
 "metadata": {
  "kernelspec": {
   "display_name": "Python 3",
   "language": "python",
   "name": "python3"
  },
  "language_info": {
   "codemirror_mode": {
    "name": "ipython",
    "version": 3
   },
   "file_extension": ".py",
   "mimetype": "text/x-python",
   "name": "python",
   "nbconvert_exporter": "python",
   "pygments_lexer": "ipython3",
   "version": "3.6.5"
  }
 },
 "nbformat": 4,
 "nbformat_minor": 2
}
