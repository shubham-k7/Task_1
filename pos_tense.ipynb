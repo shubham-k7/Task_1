{
 "cells": [
  {
   "cell_type": "code",
   "execution_count": 1,
   "metadata": {},
   "outputs": [],
   "source": [
    "import nltk\n",
    "import numpy as np\n",
    "from nltk.tokenize import TreebankWordTokenizer\n",
    "from nltk.corpus import treebank\n",
    "from nltk import sent_tokenize, pos_tag_sents"
   ]
  },
  {
   "cell_type": "code",
   "execution_count": 3,
   "metadata": {},
   "outputs": [
    {
     "name": "stdout",
     "output_type": "stream",
     "text": [
      "[[('We', 'UNK'), ('did', 'Past'), ('this', 'UNK'), ('question', 'UNK'), ('yesterday', 'UNK'), ('.', 'UNK')], [('Can', 'present'), ('you', 'UNK'), ('do', 'UNK'), ('it', 'UNK'), ('now', 'UNK'), ('?', 'UNK')]]\n",
      "[['UNK', 'Past', 'UNK', 'UNK', 'UNK', 'UNK'], ['present', 'UNK', 'UNK', 'UNK', 'UNK', 'UNK']]\n"
     ]
    }
   ],
   "source": [
    "all_sent = treebank.tagged_sents()\n",
    "tn = TreebankWordTokenizer()\n",
    "tree = treebank.parsed_sents('wsj_0001.mrg')[0]\n",
    "para = \"We did this question yesterday. Can you do it now?\"\n",
    "sentences = sent_tokenize(para)\n",
    "sent_tokens = []\n",
    "for sentence in sentences:\n",
    "    tokenized_sent = tn.tokenize(sentence)\n",
    "    sent_tokens.append(tokenized_sent)\n",
    "sent_tagged = pos_tag_sents(sent_tokens)\n",
    "\n",
    "\n",
    "# trivial_solve\n",
    "past_tag = [\"VBD\", \"VBN\"]\n",
    "present_tag = [\"VBP\", \"VBZ\"]\n",
    "future_modal = [\"will\",\"ll\",\"shall\"]\n",
    "past_modal = [\"would\",\"could\"]\n",
    "\n",
    "para_word_tense = []\n",
    "para_tense = []\n",
    "for sentence in sent_tagged:\n",
    "    sent_word_tense = []\n",
    "    sent_tense = []\n",
    "    for (word, postag) in sentence:\n",
    "        tense = \"UNK\"\n",
    "        if(postag in past_tag):\n",
    "            tense = \"Past\"\n",
    "        elif(postag in present_tag):\n",
    "            tense = \"Present\"\n",
    "        elif(postag == \"MD\"):\n",
    "            if(word in future_modal):\n",
    "                tense = \"Future\"\n",
    "            elif(word in past_modal):\n",
    "                tense = \"Past\"\n",
    "            else:\n",
    "                tense = \"present\"\n",
    "        sent_word_tense.append((word, tense))\n",
    "        sent_tense.append(tense)\n",
    "    para_word_tense.append(sent_word_tense)\n",
    "    para_tense.append(sent_tense)\n",
    "\n",
    "print(para_word_tense)\n",
    "print(para_tense)"
   ]
  },
  {
   "cell_type": "code",
   "execution_count": 7,
   "metadata": {},
   "outputs": [
    {
     "ename": "KeyboardInterrupt",
     "evalue": "",
     "output_type": "error",
     "traceback": [
      "\u001b[0;31m---------------------------------------------------------------------------\u001b[0m",
      "\u001b[0;31mKeyboardInterrupt\u001b[0m                         Traceback (most recent call last)",
      "\u001b[0;32m<ipython-input-7-8c0fac4b1b7d>\u001b[0m in \u001b[0;36m<module>\u001b[0;34m()\u001b[0m\n\u001b[1;32m     25\u001b[0m         \u001b[0;32mbreak\u001b[0m\u001b[0;34m\u001b[0m\u001b[0m\n\u001b[1;32m     26\u001b[0m     \u001b[0;32melse\u001b[0m\u001b[0;34m:\u001b[0m\u001b[0;34m\u001b[0m\u001b[0m\n\u001b[0;32m---> 27\u001b[0;31m         \u001b[0mmain_tense\u001b[0m \u001b[0;34m=\u001b[0m \u001b[0mgo_deep\u001b[0m\u001b[0;34m(\u001b[0m\u001b[0mnode\u001b[0m\u001b[0;34m,\u001b[0m \u001b[0;34m[\u001b[0m\u001b[0;34m\"S\"\u001b[0m\u001b[0;34m]\u001b[0m\u001b[0;34m)\u001b[0m\u001b[0;34m\u001b[0m\u001b[0m\n\u001b[0m\u001b[1;32m     28\u001b[0m         \u001b[0;32mif\u001b[0m\u001b[0;34m(\u001b[0m\u001b[0mmain_tense\u001b[0m\u001b[0;34m!=\u001b[0m \u001b[0;32mNone\u001b[0m\u001b[0;34m)\u001b[0m\u001b[0;34m:\u001b[0m\u001b[0;34m\u001b[0m\u001b[0m\n\u001b[1;32m     29\u001b[0m             \u001b[0msent\u001b[0m\u001b[0;34m.\u001b[0m\u001b[0mappend\u001b[0m\u001b[0;34m(\u001b[0m\u001b[0mmain_tense\u001b[0m\u001b[0;34m)\u001b[0m\u001b[0;34m\u001b[0m\u001b[0m\n",
      "\u001b[0;31mKeyboardInterrupt\u001b[0m: "
     ]
    }
   ],
   "source": [
    "#POS-based tense detection\n",
    "from nltk.util import breadth_first\n",
    "i = 0\n",
    "sub_clauses = []\n",
    "\n",
    "# TODO\n",
    "def getTenseFromVerb(node):\n",
    "    return \"Present\"\n",
    "def go_deep(child, choice_label):\n",
    "    for child in node:\n",
    "        if(type(child) == nltk.tree.Tree and child.label() == choice_label):\n",
    "            print(child.label())\n",
    "            tense = getTenseFromVerb(child)\n",
    "            if(tense!= \"UNK\"):\n",
    "                return (tense)\n",
    "            go_deep(child)\n",
    "    return None\n",
    "sent = []\n",
    "for node in breadth_first(tree):\n",
    "    if(len(node)<2):\n",
    "        pass\n",
    "    main_tense = go_deep(node, [\"VP\"])\n",
    "    if(main_tense != None):\n",
    "        sent.append(main_tense)\n",
    "        break\n",
    "    else:\n",
    "        main_tense = go_deep(node, [\"S\"])\n",
    "        if(main_tense!= None):\n",
    "            sent.append(main_tense)\n",
    "            break\n",
    "        else:\n",
    "            sent.append(\"UNK\")\n",
    "sent"
   ]
  }
 ],
 "metadata": {
  "kernelspec": {
   "display_name": "Python 3",
   "language": "python",
   "name": "python3"
  },
  "language_info": {
   "codemirror_mode": {
    "name": "ipython",
    "version": 3
   },
   "file_extension": ".py",
   "mimetype": "text/x-python",
   "name": "python",
   "nbconvert_exporter": "python",
   "pygments_lexer": "ipython3",
   "version": "3.6.5"
  }
 },
 "nbformat": 4,
 "nbformat_minor": 2
}
